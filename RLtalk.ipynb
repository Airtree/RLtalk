{
 "cells": [
  {
   "cell_type": "markdown",
   "metadata": {},
   "source": [
    "# Reinforcement Learning"
   ]
  },
  {
   "cell_type": "markdown",
   "metadata": {},
   "source": [
    "\"A gazelle calf struggles to its feet minutes after being born. Half an hour later it is running at 20 miles per hour.\" - Sutton and Barto"
   ]
  },
  {
   "cell_type": "markdown",
   "metadata": {},
   "source": [
    "<img src=\"images/gazelle.jpeg\" style=\"width: 800px;\"/>"
   ]
  },
  {
   "cell_type": "markdown",
   "metadata": {},
   "source": [
    "## This is Different from Supervised Learning\n",
    "\n",
    "* Supervised Learning\n",
    "  * \"learning from examples provided by a knowledgeable external supervisor\"\n",
    "  * For any state that the agent may be in, the supervisor can supply enough relevant examples of the outcomes which result from similar states so that we may make an accurate prediction.\n",
    "\n",
    "* Reinforcement Learning\n",
    "  * No supervisor exists\n",
    "  * Agent must learn from experience as it explores the range of possible states\n",
    "  * Continuously update policy in response to new information."
   ]
  },
  {
   "cell_type": "markdown",
   "metadata": {},
   "source": [
    "# Goal\n",
    "\n",
    "- Agent interacts dynamically with its environment, moves from one state to another. \n",
    "- Based on the actions taken by the agent, rewards are given. \n",
    "- Guidelines for which action to take in each state is called a policy.\n",
    "- Try to efficiently find an optimal policy in which rewards are maximized.\n"
   ]
  },
  {
   "cell_type": "markdown",
   "metadata": {},
   "source": [
    "<img src=\"images/RL_diagram.png\" style=\"width: 600px;\">"
   ]
  },
  {
   "cell_type": "markdown",
   "metadata": {},
   "source": [
    "<table class=\"table table-bordered\">\n",
    "<font size=\"4\">\n",
    "  <tr>\n",
    "    <th>\n",
    "      agent\n",
    "    </th>\n",
    "    <th>\n",
    "      environment\n",
    "    </th>\n",
    "    <th>\n",
    "      actions\n",
    "    </th>\n",
    "    <th>\n",
    "      rewards\n",
    "    </th>\n",
    "    <th>\n",
    "      policy\n",
    "    </th>\n",
    "  </tr>\n",
    "  <tr>\n",
    "    <td>\n",
    "      robot arm\n",
    "    </td>\n",
    "    <td>\n",
    "      set of arm positions\n",
    "    </td>\n",
    "    <td>\n",
    "      bend elbow, close hand, extend arm, etc.\n",
    "    </td>\n",
    "    <td>\n",
    "      reward when door successfully opened\n",
    "    </td>\n",
    "    <td>\n",
    "      most efficient set of movements to open door\n",
    "    </td>\n",
    "  </tr>\n",
    "  <tr>\n",
    "    <td>\n",
    "      board game player\n",
    "    </td>\n",
    "    <td>\n",
    "      set of all game configs.\n",
    "    </td>\n",
    "    <td>\n",
    "      legal moves\n",
    "    </td>\n",
    "    <td>\n",
    "      winning the game\n",
    "    </td>\n",
    "    <td>\n",
    "      optimal strategy\n",
    "    </td>\n",
    "  </tr>\n",
    "  <tr>\n",
    "    <td>\n",
    "      mouse\n",
    "    </td>\n",
    "    <td>\n",
    "      maze\n",
    "    </td>\n",
    "    <td>\n",
    "      running, turning\n",
    "    </td>\n",
    "    <td>\n",
    "      cheese\n",
    "    </td>\n",
    "    <td>\n",
    "      most direct path to cheese\n",
    "    </td>\n",
    "  </tr>\n",
    "  <tr>\n",
    "    <td>\n",
    "      credit card company\n",
    "    </td>\n",
    "    <td>\n",
    "      set of all customers in default\n",
    "    </td>\n",
    "    <td>\n",
    "      set of collections actions\n",
    "    </td>\n",
    "    <td>\n",
    "      cost for each attempt, reward for successful collection\n",
    "    </td>\n",
    "    <td>\n",
    "      optimal strategy for debt collections\n",
    "    </td>\n",
    "  </tr>\n",
    "  <tr>\n",
    "    <td>\n",
    "      marketing team\n",
    "    </td>\n",
    "    <td>\n",
    "      sets of potential customers and ads that can be shown\n",
    "    </td>\n",
    "    <td>\n",
    "      showing an ad to a potential customer\n",
    "    </td>\n",
    "    <td>\n",
    "      cost of placing ad, value of customer's business\n",
    "    </td>\n",
    "    <td>\n",
    "      optimal ad placement strategy\n",
    "    </td>\n",
    "  </tr>\n",
    "  <tr>\n",
    "    <td>\n",
    "      call center\n",
    "    </td>\n",
    "    <td>\n",
    "      status of each customer in queue\n",
    "    </td>\n",
    "    <td>\n",
    "      connecting customers to representatives\n",
    "    </td>\n",
    "    <td>\n",
    "      customer satisfaction\n",
    "    </td>\n",
    "    <td>\n",
    "      optimal queueing strategy\n",
    "    </td>\n",
    "  </tr>\n",
    "  <tr>\n",
    "    <td>\n",
    "      Website Designer\n",
    "    </td>\n",
    "    <td>\n",
    "      set of possible layout options\n",
    "    </td>\n",
    "    <td>\n",
    "      changing layout\n",
    "    </td>\n",
    "    <td>\n",
    "      increased click-through rate\n",
    "    </td>\n",
    "    <td>\n",
    "      ideal layout\n",
    "    </td>\n",
    "  </tr>\n",
    "  </font>\n",
    "</table>"
   ]
  },
  {
   "cell_type": "markdown",
   "metadata": {},
   "source": [
    "# Exploration vs Exploitation"
   ]
  },
  {
   "cell_type": "markdown",
   "metadata": {},
   "source": [
    "- In the absence of a Supervisor, the agent must exlore the environment in order to gain information about rewards, while exploiting it's current information to maximize it's rewards.\n",
    "\n",
    "- Balancing this tradeoff is a common theme"
   ]
  },
  {
   "cell_type": "markdown",
   "metadata": {},
   "source": [
    "# Multi-Armed Bandits - A single state example"
   ]
  },
  {
   "cell_type": "markdown",
   "metadata": {},
   "source": [
    "* Given N different arms to choose from, each with an unknown reward, what strategy should we use to explore and learn the values of each arm, while exploiting our current knowledge to maximize profit?\n",
    "* This is a very common approach for optimizing online marketing campaigns.\n",
    "* This can be thought of as a single-state reinforcement learning problem\n",
    "\n",
    "<img src=\"images/MAB.jpg\" style=\"width: 400px;\"/>\n",
    "\n"
   ]
  },
  {
   "cell_type": "markdown",
   "metadata": {},
   "source": [
    "## Epsilon-greedy"
   ]
  },
  {
   "cell_type": "markdown",
   "metadata": {},
   "source": [
    "- A fraction (1 - $\\epsilon$) of the time, choose the arm with the largest estimated value (exploit)\n",
    "- The other $\\epsilon$ of the time, chose a random arm (explore)\n",
    "- Tune $\\epsilon$ in order to balance tradeoff\n",
    "\n",
    "<img src=\"images/epsilongreedy.png\" style=\"width: 400px;\"/>"
   ]
  },
  {
   "cell_type": "code",
   "execution_count": 1,
   "metadata": {
    "collapsed": true
   },
   "outputs": [],
   "source": [
    "%matplotlib inline\n",
    "import numpy as np\n",
    "import matplotlib.pyplot as plt"
   ]
  },
  {
   "cell_type": "markdown",
   "metadata": {},
   "source": [
    "- Let true arm values be normally distributed with mean of 0, variance of 1\n",
    "- Add a noise term to each reward, also normally distributed with mean of 0, variance of 1"
   ]
  },
  {
   "cell_type": "code",
   "execution_count": 9,
   "metadata": {
    "collapsed": false
   },
   "outputs": [],
   "source": [
    "class Bandit:\n",
    "    def __init__(self):\n",
    "        self.arm_values = np.random.normal(0,1,10)\n",
    "        self.K = np.zeros(10)\n",
    "        self.est_values = np.zeros(10)\n",
    "        \n",
    "    def get_reward(self,action):\n",
    "        noise = np.random.normal(0,1)\n",
    "        reward = self.arm_values[action] + noise\n",
    "        return reward\n",
    "    \n",
    "    def choose_eps_greedy(self,epsilon):\n",
    "        rand_num = np.random.random()\n",
    "        if epsilon>rand_num:\n",
    "            return np.random.randint(10)\n",
    "        else:\n",
    "            return np.argmax(self.est_values)\n",
    "    \n",
    "    def update_est(self,action,reward):\n",
    "        self.K[action] += 1\n",
    "        alpha = 1./self.K[action]\n",
    "        self.est_values[action] += alpha * (reward - self.est_values[action])  # keeps running average of rewards"
   ]
  },
  {
   "cell_type": "markdown",
   "metadata": {},
   "source": [
    "A single experiment consists of pulling the arm Npulls times for a given 10 armed bandit."
   ]
  },
  {
   "cell_type": "code",
   "execution_count": 3,
   "metadata": {
    "collapsed": true
   },
   "outputs": [],
   "source": [
    "def experiment(bandit,Npulls,epsilon):\n",
    "    history = []\n",
    "    for i in range(Npulls):\n",
    "        action = bandit.choose_eps_greedy(epsilon)\n",
    "        R = bandit.get_reward(action)\n",
    "        bandit.update_est(action,R)\n",
    "        history.append(R)\n",
    "    return np.array(history)"
   ]
  },
  {
   "cell_type": "markdown",
   "metadata": {},
   "source": [
    "Repeat experiment many times and look at the evolution of the rewards, averaged over all the experiments"
   ]
  },
  {
   "cell_type": "code",
   "execution_count": 6,
   "metadata": {
    "collapsed": false
   },
   "outputs": [],
   "source": [
    "Nexp = 2000\n",
    "Npulls = 3000\n",
    "\n",
    "avg_outcome_eps0p0 = np.zeros(Npulls)\n",
    "avg_outcome_eps0p01 = np.zeros(Npulls)\n",
    "avg_outcome_eps0p1 = np.zeros(Npulls)\n",
    "\n",
    "for i in range(Nexp):\n",
    "    bandit = Bandit()\n",
    "    avg_outcome_eps0p0 += experiment(bandit,Npulls,0.0)\n",
    "    bandit = Bandit()\n",
    "    avg_outcome_eps0p01 += experiment(bandit,Npulls,0.01)\n",
    "    bandit = Bandit()\n",
    "    avg_outcome_eps0p1 += experiment(bandit,Npulls,0.1)\n",
    "\n",
    "avg_outcome_eps0p0 /= np.float(Nexp)\n",
    "avg_outcome_eps0p01 /= np.float(Nexp)\n",
    "avg_outcome_eps0p1 /= np.float(Nexp)"
   ]
  },
  {
   "cell_type": "code",
   "execution_count": 7,
   "metadata": {
    "collapsed": false
   },
   "outputs": [
    {
     "data": {
      "image/png": "[encoded data removed]",
      "text/plain": [
       "<matplotlib.figure.Figure at 0x10ffbd9d0>"
      ]
     },
     "metadata": {},
     "output_type": "display_data"
    }
   ],
   "source": [
    "plt.plot(avg_outcome_eps0p0,label=\"eps = 0.0\")\n",
    "plt.plot(avg_outcome_eps0p01,label=\"eps = 0.01\")\n",
    "plt.plot(avg_outcome_eps0p1,label=\"eps = 0.1\")\n",
    "plt.ylim(0,2.2)\n",
    "plt.legend()\n",
    "plt.show()"
   ]
  },
  {
   "cell_type": "markdown",
   "metadata": {},
   "source": [
    "# Important Note\n",
    "\n",
    "- A traditional AB test can be thought of as a multi-armed bandit algorithm, where we choose to exclusively explore during the initial testing phase, then abruptly switch to exclusively exploiting when we roll out."
   ]
  },
  {
   "cell_type": "markdown",
   "metadata": {},
   "source": [
    "# Dynamic Contextual Bandits"
   ]
  },
  {
   "cell_type": "markdown",
   "metadata": {},
   "source": [
    "- Imagine that the value of the arms is changing dynamically\n",
    "- Also imagine that each arm has N features that we can use to model the values\n",
    "- Continuously test and update model while exploiting current knowledge\n",
    "\n",
    "<img src=\"images/arm_values.png\" style=\"width: 400px;\"/>\n",
    "<img src=\"images/bandit_dynamic.png\" style=\"width: 400px;\"/>\n"
   ]
  },
  {
   "cell_type": "markdown",
   "metadata": {},
   "source": [
    "# Markov Decision Processes\n",
    "\n",
    "* Generally, we consider Markov Decision Processes (MDPs), defined by\n",
    "    * Set of all states and actions available to agent\n",
    "    * Probability of transitions between states\n",
    "    * For each transition, there is an expected reward for entering new state\n",
    "    * Transition probability depends only on current state and action (Markov Property)\n",
    "    * Environment's dynamics can be described by specifying\n",
    "\n",
    "Pr{R<sub>t+1</sub> = r, S<sub>t+1</sub>=s' | S<sub>t</sub>, A<sub>t</sub>} for all r, s', S<sub>t</sub> and A<sub>t</sub>"
   ]
  },
  {
   "cell_type": "markdown",
   "metadata": {},
   "source": [
    "## Dynamic Programming Approach\n",
    "\n",
    "Solve Bellman Equation:\n",
    "\n",
    "<img src=\"images/bellman.png\" style=\"width: 800px;\" />\n",
    "\n",
    "\n",
    "* Assume that Environment is fully known\n",
    "* System of algebraic equations - can be solved exactly\n",
    "* Solution can be obtained directly (uncommon) or iteratively (e.g. \"policy iteration\" or \"value iteration\")\n",
    "* Iterative approaches are more efficient and more common\n",
    "* This approach is known as the \"dynamic programming approach\"\n",
    "* Not used extensively in practice because of:\n",
    "    * Computational expense\n",
    "    * Assumption of a \"perfect model\" of the Environment"
   ]
  },
  {
   "cell_type": "markdown",
   "metadata": {},
   "source": [
    "## Monte Carlo Approach\n",
    "\n",
    "* Do not assume complete knowledge of the environment\n",
    "* Sample sequences of states, actions, and rewards from on-line or simulated interaction with an environment\n",
    "* For each state-action pair, compute average subsequent rewards over many \"episodes\"\n",
    "* Value estimates are not updated on the basis of other value estimates – no \"bootstrapping\"\n",
    "\n",
    "\n",
    "## Blackjack\n",
    "\n",
    "* What is the optimal policy when playing Blackjack?\n",
    "* What is the expected future reward in each state?\n",
    "\n",
    "<img src=\"images/blackjack.png\" style=\"width: 1000px;\"/>"
   ]
  },
  {
   "cell_type": "markdown",
   "metadata": {},
   "source": [
    "## Temporal-Difference Learning\n",
    "\n",
    "* Combine Monte Carlo ideas and dynamic programming ideas.\n",
    "* Still do not assume complete knowledge of the environment\n",
    "* Update estimates based in part on other learned estimates (bootstrapping)\n",
    "* Probably most common algorithm is known as \"Q-learning\"\n",
    "\n",
    "\n",
    "## Maze\n",
    "\n",
    "What is the optimal policy for navigating the maze, with a reward given for moving into the state marked with a white spot?\n",
    "\n",
    "<img src=\"images/maze.png\" style=\"width: 800px;\"/>"
   ]
  },
  {
   "cell_type": "markdown",
   "metadata": {},
   "source": [
    "## Collections Game\n",
    "\n",
    "<img src=\"images/MyGame.png\" style=\"width: 800px;\"/>\n",
    "\n",
    "* Each individual owes \\$40, and will pay if they are asked &#952; times.\n",
    "* Each time we ask, it costs us \\$1.\n",
    "* We don't know the distribution of &#952; a priori.\n",
    "* Can we learn what the best collections strategy is?\n",
    "* Can we learn what the expected reward is for any given state?"
   ]
  },
  {
   "cell_type": "code",
   "execution_count": 1,
   "metadata": {
    "collapsed": false
   },
   "outputs": [],
   "source": [
    "%matplotlib inline\n",
    "import numpy as np\n",
    "import matplotlib.pyplot as plt\n",
    "import scipy.stats as ss\n",
    "from IPython import display\n",
    "import tweepy\n",
    "import random\n",
    "import sys"
   ]
  },
  {
   "cell_type": "markdown",
   "metadata": {},
   "source": [
    "### Base Class"
   ]
  },
  {
   "cell_type": "code",
   "execution_count": 2,
   "metadata": {
    "collapsed": true
   },
   "outputs": [],
   "source": [
    "class BanditBase(object):\n",
    "    \"\"\"\n",
    "    Bandit Base Class\n",
    "    \"\"\"\n",
    "    def get_reward(self,action,text):\n",
    "        if any(x in text for x in action):\n",
    "            return 1\n",
    "        else:\n",
    "            return 0\n",
    "        "
   ]
  },
  {
   "cell_type": "markdown",
   "metadata": {},
   "source": [
    "### Epsilon Greedy"
   ]
  },
  {
   "cell_type": "code",
   "execution_count": 3,
   "metadata": {
    "collapsed": false
   },
   "outputs": [],
   "source": [
    "class BanditEpsGreedy(BanditBase):\n",
    "    \"\"\"\n",
    "    Use Epsilon-Greedy Method\n",
    "    \"\"\"\n",
    "    def __init__(self,keys,init,epsilon=0.1):\n",
    "        self.epsilon = epsilon\n",
    "        self.ActionValue = {}\n",
    "        for key in keys:\n",
    "            self.ActionValue[key] = init\n",
    "\n",
    "    def choose_action(self):\n",
    "        \"\"\"\n",
    "        For 1-epsilon of the time, choose the action with the highest estimated value.\n",
    "        For epsilon of the time, randomly choose an action\n",
    "        \"\"\"\n",
    "        random_num = np.random.rand()\n",
    "        if random_num<self.epsilon:\n",
    "            return random.choice(self.ActionValue.keys())\n",
    "        else:\n",
    "            return max(self.ActionValue, key=lambda x:self.ActionValue.get(x)[1])\n",
    "    \n",
    "    def update(self,action,reward):\n",
    "        \"\"\"\n",
    "        Update estimated value by keeping running average of rewards for each action\n",
    "        \"\"\"\n",
    "        K = self.ActionValue[action][0]\n",
    "        Value = self.ActionValue[action][1]\n",
    "        K += 1\n",
    "        alpha = 1./K\n",
    "        Value += alpha * (reward - Value)\n",
    "        self.ActionValue[action] = (K,Value)\n",
    "        \n",
    "    def plotme(self):\n",
    "        \"\"\"\n",
    "        Display results\n",
    "        \"\"\"\n",
    "        display.clear_output(wait=True)\n",
    "        for key in self.ActionValue:\n",
    "            print(str.format('action: {0}, Value: {1:.2f}, K: {2}', key,self.ActionValue[key][1],self.ActionValue[key][0]))\n",
    "\n"
   ]
  },
  {
   "cell_type": "markdown",
   "metadata": {},
   "source": [
    "### Randomized Probability Matching"
   ]
  },
  {
   "cell_type": "code",
   "execution_count": 4,
   "metadata": {
    "collapsed": true
   },
   "outputs": [],
   "source": [
    "class BanditRPM(BanditBase):\n",
    "    def __init__(self,keys,init):\n",
    "        self.ActionValue = {}\n",
    "        for key in keys:\n",
    "            self.ActionValue[key] = init\n",
    "\n",
    "    def choose_action(self):\n",
    "        \"\"\"\n",
    "        Use Thompson sampling to choose action. Sample from each posterior and choose the max of the samples.\n",
    "        \"\"\"\n",
    "        samples = {}\n",
    "        for key in self.ActionValue:\n",
    "            samples[key] = np.random.beta(self.ActionValue[key][0], self.ActionValue[key][1])\n",
    "        return max(samples, key=samples.get)\n",
    "\n",
    "    def update(self,action,reward):\n",
    "        \"\"\"\n",
    "        Update parameters of posteriors, which are Beta distributions\n",
    "        \"\"\"\n",
    "        a, b = self.ActionValue[action]\n",
    "        self.ActionValue[action] = (a+reward, b + 1 - reward)\n",
    "        \n",
    "    def plotme(self):\n",
    "        \"\"\"\n",
    "        Display results\n",
    "        \"\"\"\n",
    "        f = plt.figure()\n",
    "        f.canvas.draw()\n",
    "        plt.xlim(0,0.6)\n",
    "        x = np.linspace(0,.6,100)\n",
    "        for key in self.ActionValue:\n",
    "            a = self.ActionValue[key][0]\n",
    "            b = self.ActionValue[key][1]\n",
    "            y = ss.beta.pdf(x, a,b)\n",
    "\n",
    "            plt.plot(x,y,label=key)\n",
    "        plt.legend()\n",
    "        display.clear_output(wait=True)\n",
    "        display.display(plt.gcf())"
   ]
  },
  {
   "cell_type": "markdown",
   "metadata": {},
   "source": [
    "# Establish Twitter Stream"
   ]
  },
  {
   "cell_type": "markdown",
   "metadata": {},
   "source": [
    "Make sure that you have a keys.txt file containing the necessary access tokens. Sign up [here](https://dev.twitter.com/) to get these."
   ]
  },
  {
   "cell_type": "code",
   "execution_count": 5,
   "metadata": {
    "collapsed": false
   },
   "outputs": [],
   "source": [
    "keyFile = open('keys.txt', 'r')\n",
    "consumer_key = keyFile.readline().rstrip()\n",
    "consumer_secret = keyFile.readline().rstrip()\n",
    "access_token = keyFile.readline().rstrip()\n",
    "access_token_secret = keyFile.readline().rstrip()\n",
    "keyFile.close()\n",
    "\n",
    "auth = tweepy.auth.OAuthHandler(consumer_key, consumer_secret)\n",
    "auth.set_access_token(access_token, access_token_secret)"
   ]
  },
  {
   "cell_type": "markdown",
   "metadata": {},
   "source": [
    "### Run Experiment on Twitter Stream"
   ]
  },
  {
   "cell_type": "markdown",
   "metadata": {},
   "source": [
    "* Each time a tweet comes in, we will choose which \"arm\" to pull by guessing what word(s) may appear in the tweet. This choice is referred to as an \"action\", and we use the get_action() method to make the choice.\n",
    "* If we are correct, we get a reward. The reward is calculated by the get_reward() method.\n",
    "* We use the information on our chosen action and reward received to update our beliefs about the values of the arms, which are stored in ActionValue."
   ]
  },
  {
   "cell_type": "code",
   "execution_count": 6,
   "metadata": {
    "collapsed": true
   },
   "outputs": [],
   "source": [
    "class StreamWatcherHandler(tweepy.StreamListener):\n",
    "    \"\"\" Handles all incoming tweets as discrete tweet objects.\n",
    "    \"\"\"\n",
    "    \n",
    "    def __init__(self,bandit):\n",
    "        super(StreamWatcherHandler, self).__init__()\n",
    "        self.bandit = bandit\n",
    " \n",
    "    def on_status(self, status):\n",
    "        \"\"\"Called when status (tweet) object received.\n",
    "        \"\"\"\n",
    "        action = self.bandit.choose_action()\n",
    "        reward = self.bandit.get_reward(action,status.text.strip().lower())\n",
    "        self.bandit.update(action,reward)\n",
    "        self.bandit.plotme()\n",
    "        return True\n",
    "    \n",
    "    def on_error(self, status):\n",
    "        print status\n"
   ]
  },
  {
   "cell_type": "markdown",
   "metadata": {},
   "source": [
    "### Epsilon Greedy"
   ]
  },
  {
   "cell_type": "code",
   "execution_count": null,
   "metadata": {
    "collapsed": false
   },
   "outputs": [],
   "source": [
    "bandit = BanditEpsGreedy([('hillary','clinton'),('donald','trump'),('bernie','sanders')],(0,0.))\n",
    "swh = StreamWatcherHandler(bandit)\n",
    "stream = tweepy.Stream(auth, swh)\n",
    "try:\n",
    "    stream.filter(track=['election', 'president'])\n",
    "except KeyboardInterrupt:\n",
    "    sys.exit(0)"
   ]
  },
  {
   "cell_type": "markdown",
   "metadata": {},
   "source": [
    "### Randomized Probability Matching"
   ]
  },
  {
   "cell_type": "code",
   "execution_count": 6,
   "metadata": {
    "collapsed": false
   },
   "outputs": [
    {
     "data": {
      "image/png": "[encoded data removed]",
      "text/plain": [
       "<matplotlib.figure.Figure at 0x388389e50>"
      ]
     },
     "metadata": {},
     "output_type": "display_data"
    },
    {
     "ename": "ReadTimeoutError",
     "evalue": "HTTPSConnectionPool(host='stream.twitter.com', port=443): Read timed out.",
     "output_type": "error",
     "traceback": [
      "\u001b[0;31m---------------------------------------------------------------------------\u001b[0m",
      "\u001b[0;31mReadTimeoutError\u001b[0m                          Traceback (most recent call last)",
      "\u001b[0;32m<ipython-input-7-779a87da1df7>\u001b[0m in \u001b[0;36m<module>\u001b[0;34m()\u001b[0m\n\u001b[1;32m      3\u001b[0m \u001b[0mstream\u001b[0m \u001b[0;34m=\u001b[0m \u001b[0mtweepy\u001b[0m\u001b[0;34m.\u001b[0m\u001b[0mStream\u001b[0m\u001b[0;34m(\u001b[0m\u001b[0mauth\u001b[0m\u001b[0;34m,\u001b[0m \u001b[0mswh\u001b[0m\u001b[0;34m)\u001b[0m\u001b[0;34m\u001b[0m\u001b[0m\n\u001b[1;32m      4\u001b[0m \u001b[0;32mtry\u001b[0m\u001b[0;34m:\u001b[0m\u001b[0;34m\u001b[0m\u001b[0m\n\u001b[0;32m----> 5\u001b[0;31m     \u001b[0mstream\u001b[0m\u001b[0;34m.\u001b[0m\u001b[0mfilter\u001b[0m\u001b[0;34m(\u001b[0m\u001b[0mtrack\u001b[0m\u001b[0;34m=\u001b[0m\u001b[0;34m[\u001b[0m\u001b[0;34m'election'\u001b[0m\u001b[0;34m,\u001b[0m \u001b[0;34m'president'\u001b[0m\u001b[0;34m]\u001b[0m\u001b[0;34m)\u001b[0m\u001b[0;34m\u001b[0m\u001b[0m\n\u001b[0m\u001b[1;32m      6\u001b[0m \u001b[0;32mexcept\u001b[0m \u001b[0mKeyboardInterrupt\u001b[0m\u001b[0;34m:\u001b[0m\u001b[0;34m\u001b[0m\u001b[0m\n\u001b[1;32m      7\u001b[0m     \u001b[0msys\u001b[0m\u001b[0;34m.\u001b[0m\u001b[0mexit\u001b[0m\u001b[0;34m(\u001b[0m\u001b[0;36m0\u001b[0m\u001b[0;34m)\u001b[0m\u001b[0;34m\u001b[0m\u001b[0m\n",
      "\u001b[0;32m/Users/gjn276/miniconda2/envs/twitter/lib/python2.7/site-packages/tweepy/streaming.pyc\u001b[0m in \u001b[0;36mfilter\u001b[0;34m(self, follow, track, async, locations, stall_warnings, languages, encoding, filter_level)\u001b[0m\n\u001b[1;32m    443\u001b[0m         \u001b[0mself\u001b[0m\u001b[0;34m.\u001b[0m\u001b[0msession\u001b[0m\u001b[0;34m.\u001b[0m\u001b[0mparams\u001b[0m \u001b[0;34m=\u001b[0m \u001b[0;34m{\u001b[0m\u001b[0;34m'delimited'\u001b[0m\u001b[0;34m:\u001b[0m \u001b[0;34m'length'\u001b[0m\u001b[0;34m}\u001b[0m\u001b[0;34m\u001b[0m\u001b[0m\n\u001b[1;32m    444\u001b[0m         \u001b[0mself\u001b[0m\u001b[0;34m.\u001b[0m\u001b[0mhost\u001b[0m \u001b[0;34m=\u001b[0m \u001b[0;34m'stream.twitter.com'\u001b[0m\u001b[0;34m\u001b[0m\u001b[0m\n\u001b[0;32m--> 445\u001b[0;31m         \u001b[0mself\u001b[0m\u001b[0;34m.\u001b[0m\u001b[0m_start\u001b[0m\u001b[0;34m(\u001b[0m\u001b[0masync\u001b[0m\u001b[0;34m)\u001b[0m\u001b[0;34m\u001b[0m\u001b[0m\n\u001b[0m\u001b[1;32m    446\u001b[0m \u001b[0;34m\u001b[0m\u001b[0m\n\u001b[1;32m    447\u001b[0m     def sitestream(self, follow, stall_warnings=False,\n",
      "\u001b[0;32m/Users/gjn276/miniconda2/envs/twitter/lib/python2.7/site-packages/tweepy/streaming.pyc\u001b[0m in \u001b[0;36m_start\u001b[0;34m(self, async)\u001b[0m\n\u001b[1;32m    359\u001b[0m             \u001b[0mself\u001b[0m\u001b[0;34m.\u001b[0m\u001b[0m_thread\u001b[0m\u001b[0;34m.\u001b[0m\u001b[0mstart\u001b[0m\u001b[0;34m(\u001b[0m\u001b[0;34m)\u001b[0m\u001b[0;34m\u001b[0m\u001b[0m\n\u001b[1;32m    360\u001b[0m         \u001b[0;32melse\u001b[0m\u001b[0;34m:\u001b[0m\u001b[0;34m\u001b[0m\u001b[0m\n\u001b[0;32m--> 361\u001b[0;31m             \u001b[0mself\u001b[0m\u001b[0;34m.\u001b[0m\u001b[0m_run\u001b[0m\u001b[0;34m(\u001b[0m\u001b[0;34m)\u001b[0m\u001b[0;34m\u001b[0m\u001b[0m\n\u001b[0m\u001b[1;32m    362\u001b[0m \u001b[0;34m\u001b[0m\u001b[0m\n\u001b[1;32m    363\u001b[0m     \u001b[0;32mdef\u001b[0m \u001b[0mon_closed\u001b[0m\u001b[0;34m(\u001b[0m\u001b[0mself\u001b[0m\u001b[0;34m,\u001b[0m \u001b[0mresp\u001b[0m\u001b[0;34m)\u001b[0m\u001b[0;34m:\u001b[0m\u001b[0;34m\u001b[0m\u001b[0m\n",
      "\u001b[0;32m/Users/gjn276/miniconda2/envs/twitter/lib/python2.7/site-packages/tweepy/streaming.pyc\u001b[0m in \u001b[0;36m_run\u001b[0;34m(self)\u001b[0m\n\u001b[1;32m    292\u001b[0m             \u001b[0;31m# call a handler first so that the exception can be logged.\u001b[0m\u001b[0;34m\u001b[0m\u001b[0;34m\u001b[0m\u001b[0m\n\u001b[1;32m    293\u001b[0m             \u001b[0mself\u001b[0m\u001b[0;34m.\u001b[0m\u001b[0mlistener\u001b[0m\u001b[0;34m.\u001b[0m\u001b[0mon_exception\u001b[0m\u001b[0;34m(\u001b[0m\u001b[0mexception\u001b[0m\u001b[0;34m)\u001b[0m\u001b[0;34m\u001b[0m\u001b[0m\n\u001b[0;32m--> 294\u001b[0;31m             \u001b[0;32mraise\u001b[0m \u001b[0mexception\u001b[0m\u001b[0;34m\u001b[0m\u001b[0m\n\u001b[0m\u001b[1;32m    295\u001b[0m \u001b[0;34m\u001b[0m\u001b[0m\n\u001b[1;32m    296\u001b[0m     \u001b[0;32mdef\u001b[0m \u001b[0m_data\u001b[0m\u001b[0;34m(\u001b[0m\u001b[0mself\u001b[0m\u001b[0;34m,\u001b[0m \u001b[0mdata\u001b[0m\u001b[0;34m)\u001b[0m\u001b[0;34m:\u001b[0m\u001b[0;34m\u001b[0m\u001b[0m\n",
      "\u001b[0;31mReadTimeoutError\u001b[0m: HTTPSConnectionPool(host='stream.twitter.com', port=443): Read timed out."
     ]
    },
    {
     "ename": "KeyboardInterrupt",
     "evalue": "",
     "output_type": "error",
     "traceback": [
      "Traceback (most recent call last):\n",
      "  File \"/Users/gjn276/miniconda2/envs/twitter/lib/python2.7/site-packages/ipykernel/ipkernel.py\", line 199, in do_execute\n    shell.run_cell(code, store_history=store_history, silent=silent)\n",
      "  File \"/Users/gjn276/miniconda2/envs/twitter/lib/python2.7/site-packages/IPython/core/interactiveshell.py\", line 2729, in run_cell\n    self.events.trigger('post_execute')\n",
      "  File \"/Users/gjn276/miniconda2/envs/twitter/lib/python2.7/site-packages/IPython/core/events.py\", line 74, in trigger\n    func(*args, **kwargs)\n",
      "  File \"/Users/gjn276/miniconda2/envs/twitter/lib/python2.7/site-packages/matplotlib/pyplot.py\", line 147, in post_execute\n    draw_all()\n",
      "  File \"/Users/gjn276/miniconda2/envs/twitter/lib/python2.7/site-packages/matplotlib/_pylab_helpers.py\", line 150, in draw_all\n    f_mgr.canvas.draw_idle()\n",
      "  File \"/Users/gjn276/miniconda2/envs/twitter/lib/python2.7/site-packages/matplotlib/backend_bases.py\", line 2026, in draw_idle\n    self.draw(*args, **kwargs)\n",
      "  File \"/Users/gjn276/miniconda2/envs/twitter/lib/python2.7/site-packages/matplotlib/backends/backend_agg.py\", line 474, in draw\n    self.figure.draw(self.renderer)\n",
      "  File \"/Users/gjn276/miniconda2/envs/twitter/lib/python2.7/site-packages/matplotlib/artist.py\", line 61, in draw_wrapper\n    draw(artist, renderer, *args, **kwargs)\n",
      "  File \"/Users/gjn276/miniconda2/envs/twitter/lib/python2.7/site-packages/matplotlib/figure.py\", line 1159, in draw\n    func(*args)\n",
      "  File \"/Users/gjn276/miniconda2/envs/twitter/lib/python2.7/site-packages/matplotlib/artist.py\", line 61, in draw_wrapper\n    draw(artist, renderer, *args, **kwargs)\n",
      "  File \"/Users/gjn276/miniconda2/envs/twitter/lib/python2.7/site-packages/matplotlib/axes/_base.py\", line 2324, in draw\n    a.draw(renderer)\n",
      "  File \"/Users/gjn276/miniconda2/envs/twitter/lib/python2.7/site-packages/matplotlib/artist.py\", line 61, in draw_wrapper\n    draw(artist, renderer, *args, **kwargs)\n",
      "  File \"/Users/gjn276/miniconda2/envs/twitter/lib/python2.7/site-packages/matplotlib/legend.py\", line 470, in draw\n    bbox = self._legend_box.get_window_extent(renderer)\n",
      "  File \"/Users/gjn276/miniconda2/envs/twitter/lib/python2.7/site-packages/matplotlib/offsetbox.py\", line 269, in get_window_extent\n    w, h, xd, yd, offsets = self.get_extent_offsets(renderer)\n",
      "  File \"/Users/gjn276/miniconda2/envs/twitter/lib/python2.7/site-packages/matplotlib/offsetbox.py\", line 391, in get_extent_offsets\n    for c in self.get_visible_children()]\n",
      "  File \"/Users/gjn276/miniconda2/envs/twitter/lib/python2.7/site-packages/matplotlib/offsetbox.py\", line 262, in get_extent\n    w, h, xd, yd, offsets = self.get_extent_offsets(renderer)\n",
      "  File \"/Users/gjn276/miniconda2/envs/twitter/lib/python2.7/site-packages/matplotlib/offsetbox.py\", line 462, in get_extent_offsets\n    for c in self.get_visible_children()]\n",
      "  File \"/Users/gjn276/miniconda2/envs/twitter/lib/python2.7/site-packages/matplotlib/offsetbox.py\", line 262, in get_extent\n    w, h, xd, yd, offsets = self.get_extent_offsets(renderer)\n",
      "  File \"/Users/gjn276/miniconda2/envs/twitter/lib/python2.7/site-packages/matplotlib/offsetbox.py\", line 391, in get_extent_offsets\n    for c in self.get_visible_children()]\n",
      "  File \"/Users/gjn276/miniconda2/envs/twitter/lib/python2.7/site-packages/matplotlib/offsetbox.py\", line 262, in get_extent\n    w, h, xd, yd, offsets = self.get_extent_offsets(renderer)\n",
      "  File \"/Users/gjn276/miniconda2/envs/twitter/lib/python2.7/site-packages/matplotlib/offsetbox.py\", line 462, in get_extent_offsets\n    for c in self.get_visible_children()]\n",
      "  File \"/Users/gjn276/miniconda2/envs/twitter/lib/python2.7/site-packages/matplotlib/offsetbox.py\", line 835, in get_extent\n    bbox, info, d = self._text._get_layout(renderer)\n",
      "  File \"/Users/gjn276/miniconda2/envs/twitter/lib/python2.7/site-packages/matplotlib/text.py\", line 357, in _get_layout\n    clean_line, ismath = self.is_math_text(line)\n",
      "  File \"/Users/gjn276/miniconda2/envs/twitter/lib/python2.7/site-packages/matplotlib/text.py\", line 1225, in is_math_text\n    if cbook.is_math_text(s):\n",
      "  File \"/Users/gjn276/miniconda2/envs/twitter/lib/python2.7/site-packages/matplotlib/cbook.py\", line 2195, in is_math_text\n    dollar_count = s.count(r'$') - s.count(r'\\$')\n",
      "KeyboardInterrupt\n"
     ]
    }
   ],
   "source": [
    "bandit = BanditRPM([('hillary','clinton'),('donald','trump'),('bernie','sanders')],(2,5))\n",
    "swh = StreamWatcherHandler(bandit)\n",
    "stream = tweepy.Stream(auth, swh)\n",
    "try:\n",
    "    stream.filter(track=['election', 'president'])\n",
    "except KeyboardInterrupt:\n",
    "    sys.exit(0)"
   ]
  },
  {
   "cell_type": "markdown",
   "metadata": {
    "collapsed": true
   },
   "source": [
    "## Example: Article Recommendation Engine\n",
    "## Yahoo! Labs\n",
    "\n",
    "\"A Contextual-Bandit Approach to Personalized News Article Recommendation\"\n",
    "\n",
    "(Li et al, 2012)\n",
    "\n",
    "* Challenge: Adapt advertisements, news articles, etc. to individual users based on content and user information\n",
    "* Solution: Model personalized recommendation of news articles as a contextual bandit problem\n",
    "* Tested algorithm on Yahoo! Front Page Today Module dataset containing over 33 million events\n",
    "* Found 12.5% click lift compared to a standard context-free bandit algorithm\n",
    "* Argue that any bandit algorithm can be reliably evaluated offline using previously recorded random traffic"
   ]
  },
  {
   "cell_type": "markdown",
   "metadata": {},
   "source": [
    "## Example: Reinforcement Learning for NY State Tax Collection\n",
    "\n",
    "\"Optimizing Debt Collections Using Constrained Reinforcement Learning\"\n",
    "\n",
    "(Abe et al, 2010)\n",
    "\n",
    "* Challenge: Optimize the debt collections process for NY state taxes.\n",
    "* Solution: Model as a Markov Decision Process\n",
    "* Find optimal solution using advantage updating (extension of standard Q-learning)\n",
    "* Apply function approximation using segmented linear regression\n",
    "* Outperforms standard approach of combining data modeling and constrained optimization\n",
    "* State expects savings of about 100 million dollars in the next three years"
   ]
  },
  {
   "cell_type": "markdown",
   "metadata": {},
   "source": [
    "## Example: Google Analytics Content Experiments\n",
    "\n",
    "* Provides a framework for testing up to 10 versions of a single page.\n",
    "* Uses Multi-Armed Bandits under the hood\n",
    "* Overview of methods provided [here](https://support.google.com/analytics/answer/2844870?hl=en&ref_topic=1745207)\n",
    "* Written by Steven L Scott, Senior Economic Analyst at Google and former Director of Statistical Analysis at Capital One"
   ]
  },
  {
   "cell_type": "code",
   "execution_count": null,
   "metadata": {
    "collapsed": true
   },
   "outputs": [],
   "source": []
  }
 ],
 "metadata": {
  "kernelspec": {
   "display_name": "Python 2",
   "language": "python",
   "name": "python2"
  },
  "language_info": {
   "codemirror_mode": {
    "name": "ipython",
    "version": 2
   },
   "file_extension": ".py",
   "mimetype": "text/x-python",
   "name": "python",
   "nbconvert_exporter": "python",
   "pygments_lexer": "ipython2",
   "version": "2.7.11"
  }
 },
 "nbformat": 4,
 "nbformat_minor": 0
}
